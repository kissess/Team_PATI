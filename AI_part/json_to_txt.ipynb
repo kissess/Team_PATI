{
 "cells": [
  {
   "cell_type": "code",
   "execution_count": 42,
   "id": "1ee70b29-5f95-4465-bfa8-0caa33f3f264",
   "metadata": {},
   "outputs": [],
   "source": [
    "import os\n",
    "import json"
   ]
  },
  {
   "cell_type": "code",
   "execution_count": 41,
   "id": "d7740e38-bf84-43bc-ae1c-2f6de3ba155b",
   "metadata": {
    "tags": []
   },
   "outputs": [],
   "source": [
    "def json2txt(json_file, output_folder):\n",
    "    \n",
    "    frames = json_file.get(\"frames\", [])\n",
    "    for frame in frames:\n",
    "        for view_key, view_data in frame.items():\n",
    "            if view_key.startswith(\"view\") and \"pts\" in view_data:\n",
    "                img_key = view_data[\"img_key\"]\n",
    "                img_filename = os.path.basename(img_key)\n",
    "                txt_filename = os.path.splitext(img_filename)[0] + \".txt\"\n",
    "                txt_path = os.path.join(output_folder, txt_filename)\n",
    "\n",
    "                with open(txt_path, 'w') as txt_file:\n",
    "                    txt_file.write(\"0 <x> <y> <width> <height> \")\n",
    "                    pts = view_data[\"pts\"]\n",
    "                    for keypoint, values in pts.items():\n",
    "                        x = round(values[\"x\"] / 1920, 6)\n",
    "                        y = round(values[\"y\"] / 1080, 6)\n",
    "                        txt_line = f\"{x} {y} 2.000000 \"\n",
    "                        txt_file.write(txt_line)"
   ]
  },
  {
   "cell_type": "code",
   "execution_count": 38,
   "id": "3c8532f4-272e-41aa-9685-032f50e56eba",
   "metadata": {
    "tags": []
   },
   "outputs": [],
   "source": [
    "json_file_path = 'F:\\\\json_to_txt\\\\json_files\\\\D05-1-001.json'  #json 파일 경로\n",
    "output_folder = 'F:\\\\json_to_txt\\\\json_files'  # 출력 폴더의 경로"
   ]
  },
  {
   "cell_type": "code",
   "execution_count": 39,
   "id": "2b10b831-bfd0-48e5-84f6-617b52d06818",
   "metadata": {
    "tags": []
   },
   "outputs": [],
   "source": [
    "with open(json_file_path, 'r', encoding='utf-8') as Fdata:\n",
    "    json_data = json.load(Fdata)"
   ]
  },
  {
   "cell_type": "code",
   "execution_count": 40,
   "id": "8f3f50b7-01ca-43bf-85ba-bb17b3f1e14f",
   "metadata": {
    "tags": []
   },
   "outputs": [],
   "source": [
    "json2txt(json_data, output_folder)"
   ]
  }
 ],
 "metadata": {
  "kernelspec": {
   "display_name": "Python 3 (ipykernel)",
   "language": "python",
   "name": "python3"
  },
  "language_info": {
   "codemirror_mode": {
    "name": "ipython",
    "version": 3
   },
   "file_extension": ".py",
   "mimetype": "text/x-python",
   "name": "python",
   "nbconvert_exporter": "python",
   "pygments_lexer": "ipython3",
   "version": "3.11.5"
  }
 },
 "nbformat": 4,
 "nbformat_minor": 5
}
